{
 "cells": [
  {
   "cell_type": "code",
   "execution_count": 34,
   "id": "67ace648-3972-4cd2-922e-e84b3930c8d8",
   "metadata": {},
   "outputs": [
    {
     "name": "stdout",
     "output_type": "stream",
     "text": [
      "{98, 35, 15, 213, 54, 119}\n",
      "{98, 35, 15, 213, 54, 119}\n"
     ]
    }
   ],
   "source": [
    "ids = {'user1': [213, 213, 213, 15, 213], \n",
    "       'user2': [54, 54, 119, 119, 119], \n",
    "       'user3': [213, 98, 98, 35]}\n",
    "\n",
    "#преобразуем элементы словаря во множества, так как там хранятся только уникальные значения\n",
    "\n",
    "# 1-й способ\n",
    "unique_ids = set()\n",
    "\n",
    "for user_ids in ids.values():\n",
    "    for id_value in user_ids:\n",
    "        unique_ids.add(id_value)\n",
    "\n",
    "print(unique_ids) \n",
    "\n",
    "# 2-й способ\n",
    "unique_ids = set(id_value for user_ids in ids.values() for id_value in user_ids)\n",
    "\n",
    "print(unique_values)"
   ]
  },
  {
   "cell_type": "code",
   "execution_count": 104,
   "id": "9967e36b-7b60-46f8-a5b4-64b43323c62c",
   "metadata": {},
   "outputs": [
    {
     "name": "stdout",
     "output_type": "stream",
     "text": [
      "Поисковых запросов, содержащих 2 слов(а): 42.86%\n",
      "Поисковых запросов, содержащих 3 слов(а): 57.14%\n"
     ]
    }
   ],
   "source": [
    "queries = [\n",
    "    'смотреть сериалы онлайн', \n",
    "    'новости спорта',\n",
    "    'афиша кино',\n",
    "    'курс доллара',\n",
    "    'сериалы этим летом',\n",
    "    'курс по питону',\n",
    "    'сериалы про спорт',\n",
    "] \n",
    "\n",
    "number_of_requests = len(queries) / 100\n",
    "two_words = 0\n",
    "three_words = 0\n",
    "\n",
    "for request in queries:\n",
    "    words = request.split()\n",
    "    if len(words) == 2:\n",
    "        two_words += 1\n",
    "    elif len(words) == 3:\n",
    "        three_words += 1\n",
    "\n",
    "print(\"Поисковых запросов, содержащих 2 слов(а): \" + str(round(two_words / number_of_requests, 2)) + \"%\")    \n",
    "print(\"Поисковых запросов, содержащих 3 слов(а): \" + str(round(three_words / number_of_requests, 2)) + \"%\")   \n"
   ]
  },
  {
   "cell_type": "code",
   "execution_count": null,
   "id": "da1c39d1-9d55-4f3d-9ace-1a60fd3bfe32",
   "metadata": {},
   "outputs": [],
   "source": []
  }
 ],
 "metadata": {
  "kernelspec": {
   "display_name": "Python 3 (ipykernel)",
   "language": "python",
   "name": "python3"
  },
  "language_info": {
   "codemirror_mode": {
    "name": "ipython",
    "version": 3
   },
   "file_extension": ".py",
   "mimetype": "text/x-python",
   "name": "python",
   "nbconvert_exporter": "python",
   "pygments_lexer": "ipython3",
   "version": "3.12.7"
  }
 },
 "nbformat": 4,
 "nbformat_minor": 5
}
