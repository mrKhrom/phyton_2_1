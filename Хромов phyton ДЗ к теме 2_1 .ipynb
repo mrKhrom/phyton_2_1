{
 "cells": [
  {
   "cell_type": "code",
   "execution_count": 54,
   "id": "67ace648-3972-4cd2-922e-e84b3930c8d8",
   "metadata": {},
   "outputs": [
    {
     "name": "stdout",
     "output_type": "stream",
     "text": [
      "es\n"
     ]
    }
   ],
   "source": [
    "word = \"test\"\n",
    "\n",
    "word_len = len(word)\n",
    "letters = list(word)\n",
    "\n",
    "if word_len % 2 == 0:\n",
    "    center_letter = letters[word_len // 2 - 1] + letters[word_len // 2]\n",
    "else:\n",
    "    center_letter = letters[word_len // 2]\n",
    "\n",
    "print(center_letter)"
   ]
  },
  {
   "cell_type": "code",
   "execution_count": 52,
   "id": "0ecac21d-5c51-4850-87da-0fa32c53a087",
   "metadata": {},
   "outputs": [
    {
     "name": "stdout",
     "output_type": "stream",
     "text": [
      "Alex и Emma\n",
      "Arthur и Kate\n",
      "John и Kira\n",
      "Peter и Liza\n",
      "Richard и Trisha\n"
     ]
    }
   ],
   "source": [
    "boys = ['Peter', 'Alex', 'John', 'Arthur', 'Richard'] \n",
    "girls = ['Kate', 'Liza', 'Kira', 'Emma', 'Trisha']\n",
    "\n",
    "if len(boys) == len(girls):\n",
    "    boys.sort()\n",
    "    girls.sort()\n",
    "\n",
    "    n = 0\n",
    "    for boy in boys:\n",
    "        print(boy + \" и \" + girls[n])\n",
    "        n = n + 1\n",
    "\n",
    "else:\n",
    "    print(\"Внимание, кто-то может остаться без пары!\")"
   ]
  },
  {
   "cell_type": "code",
   "execution_count": null,
   "id": "6221d85d-c6df-40b1-b684-b3c2cd9258ea",
   "metadata": {},
   "outputs": [],
   "source": []
  }
 ],
 "metadata": {
  "kernelspec": {
   "display_name": "Python 3 (ipykernel)",
   "language": "python",
   "name": "python3"
  },
  "language_info": {
   "codemirror_mode": {
    "name": "ipython",
    "version": 3
   },
   "file_extension": ".py",
   "mimetype": "text/x-python",
   "name": "python",
   "nbconvert_exporter": "python",
   "pygments_lexer": "ipython3",
   "version": "3.12.7"
  }
 },
 "nbformat": 4,
 "nbformat_minor": 5
}
