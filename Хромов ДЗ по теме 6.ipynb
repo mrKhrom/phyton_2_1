{
 "cells": [
  {
   "cell_type": "code",
   "execution_count": 2,
   "id": "67ace648-3972-4cd2-922e-e84b3930c8d8",
   "metadata": {},
   "outputs": [
    {
     "name": "stdout",
     "output_type": "stream",
     "text": [
      "500 добавлено на счёт.\n",
      "300 снято со счёта.\n",
      "Недостаточно средств на счёте.\n",
      "Account owner: John Doe, Balance: 1200\n",
      "['Deposited: 500', 'Withdrew: 300']\n"
     ]
    }
   ],
   "source": [
    "class Account:\n",
    "    def __init__(self, name, balance=0):\n",
    "        \"\"\"\n",
    "        Инициализация банковского аккаунта.\n",
    "        :param name: Имя владельца аккаунта.\n",
    "        :param balance: Стартовый баланс (по умолчанию 0).\n",
    "        \"\"\"\n",
    "        self.name = name\n",
    "        self.balance = balance\n",
    "        self.history = []  # Список для хранения истории операций\n",
    "    \n",
    "    def deposit(self, amount):\n",
    "        \"\"\"\n",
    "        Метод для пополнения счёта.\n",
    "        :param amount: Сумма для пополнения.\n",
    "        \"\"\"\n",
    "        if amount > 0:\n",
    "            self.balance += amount\n",
    "            self.history.append(f\"Deposited: {amount}\")\n",
    "            print(f\"{amount} добавлено на счёт.\")\n",
    "        else:\n",
    "            print(\"Сумма для пополнения должна быть положительной.\")\n",
    "    \n",
    "    def withdraw(self, amount):\n",
    "        \"\"\"\n",
    "        Метод для снятия денег со счёта.\n",
    "        :param amount: Сумма для снятия.\n",
    "        \"\"\"\n",
    "        if amount > self.balance:\n",
    "            print(\"Недостаточно средств на счёте.\")\n",
    "        elif amount <= 0:\n",
    "            print(\"Сумма для снятия должна быть больше нуля.\")\n",
    "        else:\n",
    "            self.balance -= amount\n",
    "            self.history.append(f\"Withdrew: {amount}\")\n",
    "            print(f\"{amount} снято со счёта.\")\n",
    "    \n",
    "    def get_history(self):\n",
    "        \"\"\"\n",
    "        Возвращает историю операций.\n",
    "        \"\"\"\n",
    "        return self.history\n",
    "    \n",
    "    def __str__(self):\n",
    "        \"\"\"\n",
    "        Возвращает строковое представление аккаунта.\n",
    "        \"\"\"\n",
    "        return f\"Account owner: {self.name}, Balance: {self.balance}\"\n",
    "\n"
   ]
  },
  {
   "cell_type": "code",
   "execution_count": 10,
   "id": "b2953d74-73e3-474d-ab42-ac0364810583",
   "metadata": {},
   "outputs": [
    {
     "name": "stdout",
     "output_type": "stream",
     "text": [
      "1500 добавлено на счёт.\n",
      "300 снято со счёта.\n",
      "1500 снято со счёта.\n",
      "Account owner: John Doe, Balance: 700\n",
      "['Deposited: 1500', 'Withdrew: 300', 'Withdrew: 1500']\n"
     ]
    }
   ],
   "source": [
    "# Пример использования\n",
    "account = Account(name=\"John Doe\", balance=1000)\n",
    "\n",
    "account.deposit(1500)       \n",
    "account.withdraw(300)      \n",
    "account.withdraw(1500)     # Попытка снять больше, чем есть на счёте\n",
    "\n",
    "print(account)             # Вывод информации о счёте\n",
    "print(account.get_history())  # Вывод истории операций\n"
   ]
  },
  {
   "cell_type": "code",
   "execution_count": null,
   "id": "06c2c1bd-542f-40ca-8dd6-a28b1c2d445c",
   "metadata": {},
   "outputs": [],
   "source": []
  }
 ],
 "metadata": {
  "kernelspec": {
   "display_name": "Python 3 (ipykernel)",
   "language": "python",
   "name": "python3"
  },
  "language_info": {
   "codemirror_mode": {
    "name": "ipython",
    "version": 3
   },
   "file_extension": ".py",
   "mimetype": "text/x-python",
   "name": "python",
   "nbconvert_exporter": "python",
   "pygments_lexer": "ipython3",
   "version": "3.12.7"
  }
 },
 "nbformat": 4,
 "nbformat_minor": 5
}
